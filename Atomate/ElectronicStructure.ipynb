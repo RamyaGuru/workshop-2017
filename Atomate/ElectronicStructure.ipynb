{
 "cells": [
  {
   "cell_type": "markdown",
   "metadata": {},
   "source": [
    "# Config"
   ]
  },
  {
   "cell_type": "code",
   "execution_count": null,
   "metadata": {
    "collapsed": true
   },
   "outputs": [],
   "source": [
    "import os\n",
    "\n",
    "db_file = os.path.abspath(\"db.json\")"
   ]
  },
  {
   "cell_type": "markdown",
   "metadata": {},
   "source": [
    "# Get Structure from MP"
   ]
  },
  {
   "cell_type": "code",
   "execution_count": null,
   "metadata": {
    "collapsed": true
   },
   "outputs": [],
   "source": [
    "from pymatgen import Structure\n",
    "\n",
    "struct_si = Structure.from_file(\"Si.cif\")"
   ]
  },
  {
   "cell_type": "markdown",
   "metadata": {},
   "source": [
    "# Firework 1: Structure Optimization"
   ]
  },
  {
   "cell_type": "code",
   "execution_count": null,
   "metadata": {
    "collapsed": true
   },
   "outputs": [],
   "source": [
    "from atomate.vasp.fireworks import OptimizeFW\n",
    "\n",
    "fw1 = OptimizeFW(struct_si, vasp_cmd=None, db_file=db_file)\n",
    "\n",
    "for task in fw1.tasks:\n",
    "    print(task.fw_name)"
   ]
  },
  {
   "cell_type": "markdown",
   "metadata": {},
   "source": [
    "# Firework 2: Static Calculation"
   ]
  },
  {
   "cell_type": "code",
   "execution_count": null,
   "metadata": {
    "collapsed": true
   },
   "outputs": [],
   "source": [
    "from atomate.vasp.fireworks import StaticFW\n",
    "\n",
    "fw2 = StaticFW(struct_si, vasp_cmd=None, db_file=db_file, parents=[fw1])\n",
    "\n",
    "for task in fw2.tasks:\n",
    "    print(task.fw_name)"
   ]
  },
  {
   "cell_type": "markdown",
   "metadata": {},
   "source": [
    "# Firework 3: Non-selfconsistent Calculation - 'uniform' mode"
   ]
  },
  {
   "cell_type": "code",
   "execution_count": null,
   "metadata": {
    "collapsed": true
   },
   "outputs": [],
   "source": [
    "from atomate.vasp.fireworks import NonSCFFW\n",
    "\n",
    "fw3 = NonSCFFW(struct_si, vasp_cmd=None, db_file=db_file, \n",
    "               parents=[fw2], mode=\"uniform\")\n",
    "\n",
    "for task in fw3.tasks:\n",
    "    print(task.fw_name)"
   ]
  },
  {
   "cell_type": "markdown",
   "metadata": {},
   "source": [
    "# Firework 4: Non-selfconsistent Calculation - 'line' mode"
   ]
  },
  {
   "cell_type": "code",
   "execution_count": null,
   "metadata": {
    "collapsed": true
   },
   "outputs": [],
   "source": [
    "fw4 = NonSCFFW(struct_si, vasp_cmd=None, db_file=db_file, \n",
    "               parents=[fw2], mode=\"line\")\n",
    "\n",
    "for task in fw4.tasks:\n",
    "    print(task.fw_name)"
   ]
  },
  {
   "cell_type": "markdown",
   "metadata": {},
   "source": [
    "# Pack Fireworks into Workflow"
   ]
  },
  {
   "cell_type": "code",
   "execution_count": null,
   "metadata": {
    "collapsed": true
   },
   "outputs": [],
   "source": [
    "from fireworks import Workflow\n",
    "\n",
    "fws = [fw1, fw2, fw3, fw4]\n",
    "\n",
    "wf = Workflow(fws)"
   ]
  },
  {
   "cell_type": "code",
   "execution_count": null,
   "metadata": {
    "collapsed": true
   },
   "outputs": [],
   "source": [
    "%matplotlib inline\n",
    "from fireworks.utilities.fw_utilities import plot_wf\n",
    "\n",
    "plot_wf(wf)"
   ]
  },
  {
   "cell_type": "markdown",
   "metadata": {},
   "source": [
    "# Emulate VASP"
   ]
  },
  {
   "cell_type": "code",
   "execution_count": null,
   "metadata": {
    "collapsed": true
   },
   "outputs": [],
   "source": [
    "from helper_functions import vasp_emulator\n",
    "\n",
    "wf = vasp_emulator(wf)"
   ]
  },
  {
   "cell_type": "markdown",
   "metadata": {},
   "source": [
    "# Add Workflow to Launchpad"
   ]
  },
  {
   "cell_type": "code",
   "execution_count": null,
   "metadata": {
    "collapsed": true
   },
   "outputs": [],
   "source": [
    "from fireworks import LaunchPad\n",
    "\n",
    "lp = LaunchPad()\n",
    "lp.reset(\"\", require_password=False)"
   ]
  },
  {
   "cell_type": "code",
   "execution_count": null,
   "metadata": {
    "collapsed": true
   },
   "outputs": [],
   "source": [
    "lp.add_wf(wf)"
   ]
  },
  {
   "cell_type": "markdown",
   "metadata": {},
   "source": [
    "# Run the workflow"
   ]
  },
  {
   "cell_type": "code",
   "execution_count": null,
   "metadata": {
    "collapsed": true
   },
   "outputs": [],
   "source": [
    "from fireworks import FWorker\n",
    "from fireworks.core.rocket_launcher import rapidfire\n",
    "\n",
    "rapidfire(lp)"
   ]
  },
  {
   "cell_type": "markdown",
   "metadata": {},
   "source": [
    "# Retrieve results"
   ]
  },
  {
   "cell_type": "code",
   "execution_count": null,
   "metadata": {
    "collapsed": true
   },
   "outputs": [],
   "source": [
    "from atomate.vasp.database import VaspCalcDb\n",
    "\n",
    "vasp_db = VaspCalcDb()"
   ]
  },
  {
   "cell_type": "code",
   "execution_count": null,
   "metadata": {
    "collapsed": true
   },
   "outputs": [],
   "source": [
    "from helper_functions import get_task_id\n",
    "\n",
    "dos_task_id = get_task_id(lp, \"Si-nscf uniform\")\n",
    "bs_task_id = get_task_id(lp, \"Si-nscf line\")\n",
    "print(dos_task_id, bs_task_id)"
   ]
  },
  {
   "cell_type": "code",
   "execution_count": null,
   "metadata": {
    "collapsed": true
   },
   "outputs": [],
   "source": [
    "bs = vasp_db.get_band_structure(bs_task_id)\n",
    "dos = vasp_db.get_dos(dos_task_id)"
   ]
  },
  {
   "cell_type": "code",
   "execution_count": null,
   "metadata": {
    "collapsed": true
   },
   "outputs": [],
   "source": []
  }
 ],
 "metadata": {
  "kernelspec": {
   "display_name": "Python 3",
   "language": "python",
   "name": "python3"
  },
  "language_info": {
   "codemirror_mode": {
    "name": "ipython",
    "version": 3
   },
   "file_extension": ".py",
   "mimetype": "text/x-python",
   "name": "python",
   "nbconvert_exporter": "python",
   "pygments_lexer": "ipython3",
   "version": "3.6.2"
  },
  "widgets": {
   "state": {},
   "version": "1.1.2"
  }
 },
 "nbformat": 4,
 "nbformat_minor": 1
}
