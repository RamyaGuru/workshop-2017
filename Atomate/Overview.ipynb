{
 "cells": [
  {
   "cell_type": "markdown",
   "metadata": {},
   "source": [
    "# FireWorks and Atomate Documentations"
   ]
  },
  {
   "cell_type": "markdown",
   "metadata": {},
   "source": [
    "https://materialsproject.github.io/fireworks/\n",
    "\n",
    "https://hackingmaterials.github.io/atomate/"
   ]
  },
  {
   "cell_type": "code",
   "execution_count": null,
   "metadata": {},
   "outputs": [],
   "source": [
    "from pymatgen import Structure\n",
    "\n",
    "structure = Structure.from_file(\"TiO2.cif\")\n",
    "print(structure)"
   ]
  },
  {
   "cell_type": "markdown",
   "metadata": {},
   "source": [
    "# Bandstructure  Workflow"
   ]
  },
  {
   "cell_type": "code",
   "execution_count": null,
   "metadata": {},
   "outputs": [],
   "source": [
    "%matplotlib inline\n",
    "\n",
    "from fireworks.utilities.fw_utilities import plot_wf\n",
    "\n",
    "from atomate.vasp.workflows import wf_bandstructure\n",
    "\n",
    "wf = wf_bandstructure(structure)\n",
    "plot_wf(wf)"
   ]
  },
  {
   "cell_type": "markdown",
   "metadata": {},
   "source": [
    "# HSE Bandstructure  Workflow"
   ]
  },
  {
   "cell_type": "code",
   "execution_count": null,
   "metadata": {},
   "outputs": [],
   "source": [
    "from atomate.vasp.workflows import wf_bandstructure_plus_hse\n",
    "\n",
    "wf = wf_bandstructure_plus_hse(structure)\n",
    "plot_wf(wf)"
   ]
  },
  {
   "cell_type": "markdown",
   "metadata": {},
   "source": [
    "# Elastic Tensor  Workflow"
   ]
  },
  {
   "cell_type": "code",
   "execution_count": null,
   "metadata": {},
   "outputs": [],
   "source": [
    "from atomate.vasp.workflows import wf_elastic_constant\n",
    "\n",
    "wf = wf_elastic_constant(structure)\n",
    "plot_wf(wf, labels_on=False, depth_factor=6)"
   ]
  },
  {
   "cell_type": "markdown",
   "metadata": {},
   "source": [
    "# Gibbs Workflow"
   ]
  },
  {
   "cell_type": "code",
   "execution_count": null,
   "metadata": {},
   "outputs": [],
   "source": [
    "from atomate.vasp.workflows import wf_gibbs_free_energy\n",
    "\n",
    "wf = wf_gibbs_free_energy(structure)\n",
    "plot_wf(wf, labels_on=False, depth_factor=6)"
   ]
  },
  {
   "cell_type": "markdown",
   "metadata": {},
   "source": [
    "# XANES Workflow"
   ]
  },
  {
   "cell_type": "code",
   "execution_count": null,
   "metadata": {},
   "outputs": [],
   "source": [
    "from atomate.feff.workflows import get_wf_xas\n",
    "\n",
    "wf = get_wf_xas('O', structure)\n",
    "print(\"Number of fireworks: {}\".format(len(wf.fws)))"
   ]
  },
  {
   "cell_type": "markdown",
   "metadata": {},
   "source": [
    "# EXAFS  workflow for scattering amplitude along specfic paths"
   ]
  },
  {
   "cell_type": "code",
   "execution_count": null,
   "metadata": {},
   "outputs": [],
   "source": [
    "from atomate.feff.workflows import get_wf_exafs_paths\n",
    "\n",
    "wf = get_wf_exafs_paths(0, structure, [1,2,3,4])\n",
    "plot_wf(wf)"
   ]
  },
  {
   "cell_type": "markdown",
   "metadata": {},
   "source": [
    "# Workflow nuts and bolts: An example"
   ]
  },
  {
   "cell_type": "markdown",
   "metadata": {},
   "source": [
    "<img src=\"bs_wf.png\">"
   ]
  },
  {
   "cell_type": "code",
   "execution_count": null,
   "metadata": {
    "collapsed": true
   },
   "outputs": [],
   "source": []
  }
 ],
 "metadata": {
  "kernelspec": {
   "display_name": "Python 3",
   "language": "python",
   "name": "python3"
  },
  "language_info": {
   "codemirror_mode": {
    "name": "ipython",
    "version": 3
   },
   "file_extension": ".py",
   "mimetype": "text/x-python",
   "name": "python",
   "nbconvert_exporter": "python",
   "pygments_lexer": "ipython3",
   "version": "3.6.2"
  }
 },
 "nbformat": 4,
 "nbformat_minor": 2
}
