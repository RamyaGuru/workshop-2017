{
 "cells": [
  {
   "cell_type": "markdown",
   "metadata": {},
   "source": [
    "# MongoDB Primer"
   ]
  },
  {
   "cell_type": "markdown",
   "metadata": {
    "deletable": true,
    "editable": true
   },
   "source": [
    "# 1. Connect to mongoDB"
   ]
  },
  {
   "cell_type": "code",
   "execution_count": null,
   "metadata": {
    "collapsed": true,
    "deletable": true,
    "editable": true
   },
   "outputs": [],
   "source": [
    "from pymongo import *"
   ]
  },
  {
   "cell_type": "markdown",
   "metadata": {
    "deletable": true,
    "editable": true
   },
   "source": [
    "This assumes you already have mongodb running in the background:"
   ]
  },
  {
   "cell_type": "code",
   "execution_count": null,
   "metadata": {
    "collapsed": true,
    "deletable": true,
    "editable": true
   },
   "outputs": [],
   "source": [
    "client = MongoClient('localhost', 27017)"
   ]
  },
  {
   "cell_type": "markdown",
   "metadata": {
    "deletable": true,
    "editable": true
   },
   "source": [
    "# 2. Create a database"
   ]
  },
  {
   "cell_type": "markdown",
   "metadata": {
    "deletable": true,
    "editable": true
   },
   "source": [
    "We can create a database that we can call `test_database`."
   ]
  },
  {
   "cell_type": "code",
   "execution_count": null,
   "metadata": {
    "collapsed": false,
    "deletable": true,
    "editable": true
   },
   "outputs": [],
   "source": [
    "db = client.my_database"
   ]
  },
  {
   "cell_type": "markdown",
   "metadata": {
    "deletable": true,
    "editable": true
   },
   "source": [
    "In fact, this command doesn't even create the database: it simply assumes that it exists. It will not actually be created until we insert out first document. We can check this by listing databases: the only ones currently there will be the databases you've used previously for atomate or fireworks, `my_database` is not in the list."
   ]
  },
  {
   "cell_type": "code",
   "execution_count": null,
   "metadata": {
    "collapsed": false,
    "deletable": true,
    "editable": true
   },
   "outputs": [],
   "source": [
    "client.database_names()"
   ]
  },
  {
   "cell_type": "markdown",
   "metadata": {
    "deletable": true,
    "editable": true
   },
   "source": [
    "# 3. Create a collection in your database"
   ]
  },
  {
   "cell_type": "markdown",
   "metadata": {
    "deletable": true,
    "editable": true
   },
   "source": [
    "Generally, you will only have one database, but you may have many collections in that database. If you're using atomate, you could have a `tasks` collection, a `materials` collection, etc. If you're storing your own data, you might one a collection for each type of experimental data.\n",
    "\n",
    "Here, let's create a collection called `nobel`."
   ]
  },
  {
   "cell_type": "code",
   "execution_count": null,
   "metadata": {
    "collapsed": true,
    "deletable": true,
    "editable": true
   },
   "outputs": [],
   "source": [
    "c = db.nobel"
   ]
  },
  {
   "cell_type": "markdown",
   "metadata": {},
   "source": [
    "This is equivalent to `c = db['nobel']`. In `pymongo`, (confusingly) there are two ways to do the same thing"
   ]
  },
  {
   "cell_type": "markdown",
   "metadata": {
    "deletable": true,
    "editable": true
   },
   "source": [
    "# 4. Insert a single document"
   ]
  },
  {
   "cell_type": "markdown",
   "metadata": {},
   "source": [
    "Let's insert a document. The 'power' on MongoDB is that it doesn't require a schema: your document can contain any valid Python `list`, `dict`, `float`, `string`, `bool` in any combination you like. This makes it very flexible! "
   ]
  },
  {
   "cell_type": "code",
   "execution_count": null,
   "metadata": {
    "collapsed": true,
    "deletable": true,
    "editable": true
   },
   "outputs": [],
   "source": [
    "my_doc = {\n",
    "    'year': 1939,\n",
    "    'field': 'physics',\n",
    "    'name': 'Ernst Orlando Lawrence',\n",
    "    'country': 'USA'\n",
    "}"
   ]
  },
  {
   "cell_type": "code",
   "execution_count": null,
   "metadata": {
    "collapsed": false,
    "deletable": true,
    "editable": true
   },
   "outputs": [],
   "source": [
    "result = c.insert_one(my_doc)"
   ]
  },
  {
   "cell_type": "markdown",
   "metadata": {},
   "source": [
    "The `result` variable can give us the `ObjectID` of the document we inserted: this is a unique key that MongoDB uses for book-keeping."
   ]
  },
  {
   "cell_type": "code",
   "execution_count": null,
   "metadata": {
    "collapsed": false,
    "deletable": true,
    "editable": true
   },
   "outputs": [],
   "source": [
    "result.inserted_id"
   ]
  },
  {
   "cell_type": "markdown",
   "metadata": {
    "deletable": true,
    "editable": true
   },
   "source": [
    "Now, if we look at our database we see our new database (`my_database`) has been added:"
   ]
  },
  {
   "cell_type": "code",
   "execution_count": null,
   "metadata": {
    "collapsed": false,
    "deletable": true,
    "editable": true
   },
   "outputs": [],
   "source": [
    "client.database_names()"
   ]
  },
  {
   "cell_type": "markdown",
   "metadata": {},
   "source": [
    "And our `nobel` collection has been added to `my_database`:"
   ]
  },
  {
   "cell_type": "code",
   "execution_count": null,
   "metadata": {
    "collapsed": false,
    "deletable": true,
    "editable": true
   },
   "outputs": [],
   "source": [
    "db.collection_names()"
   ]
  },
  {
   "cell_type": "markdown",
   "metadata": {
    "deletable": true,
    "editable": true
   },
   "source": [
    "# 5. Delete a document"
   ]
  },
  {
   "cell_type": "markdown",
   "metadata": {
    "collapsed": true,
    "deletable": true,
    "editable": true
   },
   "source": [
    "To delete a document, you can use the `delete_one` or `delete_many` methods on your collection. The argument to this method is simply a query. For example, `c.delete_many({'year': 1939})` would delete all documents that have `year` set as 1939.\n",
    "\n",
    "Here, since we still have the `my_doc` dict, we can simply set the query to the dict itself!"
   ]
  },
  {
   "cell_type": "code",
   "execution_count": null,
   "metadata": {
    "collapsed": false,
    "deletable": true,
    "editable": true
   },
   "outputs": [],
   "source": [
    "result = c.delete_one(my_doc)"
   ]
  },
  {
   "cell_type": "markdown",
   "metadata": {},
   "source": [
    "Assigning the output of this method to a variable (`result`) is optional, but allows us to obtain information on how many documents were deleted:"
   ]
  },
  {
   "cell_type": "code",
   "execution_count": null,
   "metadata": {
    "collapsed": false
   },
   "outputs": [],
   "source": [
    "print(result.deleted_count)"
   ]
  },
  {
   "cell_type": "markdown",
   "metadata": {
    "deletable": true,
    "editable": true
   },
   "source": [
    "# 6. Insert many documents"
   ]
  },
  {
   "cell_type": "markdown",
   "metadata": {
    "deletable": true,
    "editable": true
   },
   "source": [
    "Let's load some test data. The Nobel Prize now has an API! (There's an API for everything now)\n",
    "\n",
    "\n",
    "We will load data taken from: http://api.nobelprize.org/v1/laureate.json\n",
    "\n",
    "Note that we are loading data from JSON, but we could just as easily load data from a .csv file, an Excel file, or similar, into a Python dictionary: numpy is a good module that can help with this."
   ]
  },
  {
   "cell_type": "code",
   "execution_count": null,
   "metadata": {
    "collapsed": true,
    "deletable": true,
    "editable": true
   },
   "outputs": [],
   "source": [
    "from monty.serialization import loadfn"
   ]
  },
  {
   "cell_type": "code",
   "execution_count": null,
   "metadata": {
    "collapsed": false,
    "deletable": true,
    "editable": true
   },
   "outputs": [],
   "source": [
    "nobel_data = loadfn('nobel_laureates.json')"
   ]
  },
  {
   "cell_type": "markdown",
   "metadata": {
    "deletable": true,
    "editable": true
   },
   "source": [
    "And we can see what it contains:"
   ]
  },
  {
   "cell_type": "code",
   "execution_count": null,
   "metadata": {
    "collapsed": false,
    "deletable": true,
    "editable": true
   },
   "outputs": [],
   "source": [
    "nobel_data[0]"
   ]
  },
  {
   "cell_type": "markdown",
   "metadata": {
    "deletable": true,
    "editable": true
   },
   "source": [
    "Note that the structure of this document is different from the document we inserted previously (`my_doc`): this again emphasises the schemaless nature of mongoDB. It is up to you to perform validation that your inputs are correct!\n",
    "\n",
    "We can see how many entries `nobel_data` contains:"
   ]
  },
  {
   "cell_type": "code",
   "execution_count": null,
   "metadata": {
    "collapsed": false
   },
   "outputs": [],
   "source": [
    "len(nobel_data)"
   ]
  },
  {
   "cell_type": "markdown",
   "metadata": {},
   "source": [
    "Now we can insert all of these into our `nobel` collection at once:"
   ]
  },
  {
   "cell_type": "code",
   "execution_count": null,
   "metadata": {
    "collapsed": false,
    "deletable": true,
    "editable": true
   },
   "outputs": [],
   "source": [
    "result = c.insert_many(nobel_data)"
   ]
  },
  {
   "cell_type": "markdown",
   "metadata": {},
   "source": [
    "If we want to, we can now check the document insertion occured, and print all the `ObejctID`s of the inserted document."
   ]
  },
  {
   "cell_type": "code",
   "execution_count": null,
   "metadata": {
    "collapsed": false
   },
   "outputs": [],
   "source": [
    "result.acknowledged"
   ]
  },
  {
   "cell_type": "code",
   "execution_count": null,
   "metadata": {
    "collapsed": false
   },
   "outputs": [],
   "source": [
    "result.inserted_ids"
   ]
  },
  {
   "cell_type": "markdown",
   "metadata": {},
   "source": [
    "Like `insert_one()` and `insert_many()`, many methods in `pymongo` have a `_one()` or a `_many()` version."
   ]
  },
  {
   "cell_type": "markdown",
   "metadata": {
    "deletable": true,
    "editable": true
   },
   "source": [
    "# 7. Query documents"
   ]
  },
  {
   "cell_type": "markdown",
   "metadata": {
    "collapsed": true,
    "deletable": true,
    "editable": true
   },
   "source": [
    "This uses the exact same syntax as `MPRester().query()`, so hopefully you will be familiar with it!\n",
    "\n",
    "Let's test a simpe query:"
   ]
  },
  {
   "cell_type": "code",
   "execution_count": null,
   "metadata": {
    "collapsed": false
   },
   "outputs": [],
   "source": [
    "cursor = c.find({'surname': 'Bragg'})"
   ]
  },
  {
   "cell_type": "markdown",
   "metadata": {},
   "source": [
    "This returns a cursor: an object that helps us keep track of where we are in the database. In Python, it is iterable, which means to see our results we can write:"
   ]
  },
  {
   "cell_type": "code",
   "execution_count": null,
   "metadata": {
    "collapsed": true
   },
   "outputs": [],
   "source": [
    "from pprint import pprint # pprint is exactly the same as print, except it adds extra spaces to make dictionaries easier to read!"
   ]
  },
  {
   "cell_type": "code",
   "execution_count": null,
   "metadata": {
    "collapsed": false
   },
   "outputs": [],
   "source": [
    "for document in cursor:\n",
    "    pprint(document)"
   ]
  },
  {
   "cell_type": "markdown",
   "metadata": {},
   "source": [
    "Now, let's run the exact same command again:"
   ]
  },
  {
   "cell_type": "code",
   "execution_count": null,
   "metadata": {
    "collapsed": true
   },
   "outputs": [],
   "source": [
    "for document in cursor:\n",
    "    pprint(document)"
   ]
  },
  {
   "cell_type": "markdown",
   "metadata": {},
   "source": [
    "This time it prints nothing! That's because our cursor is now at the end of our results from our query. To see our results again, the query hast to be run again."
   ]
  },
  {
   "cell_type": "code",
   "execution_count": null,
   "metadata": {
    "collapsed": false
   },
   "outputs": [],
   "source": [
    "cursor = c.find({'surname': 'Bragg'})"
   ]
  },
  {
   "cell_type": "markdown",
   "metadata": {},
   "source": [
    "If you want to store the results to use later, you can store them in a list:"
   ]
  },
  {
   "cell_type": "code",
   "execution_count": null,
   "metadata": {
    "collapsed": true
   },
   "outputs": [],
   "source": [
    "my_query_results = list(cursor)"
   ]
  },
  {
   "cell_type": "code",
   "execution_count": null,
   "metadata": {
    "collapsed": false
   },
   "outputs": [],
   "source": [
    "pprint(my_query_results)"
   ]
  },
  {
   "cell_type": "markdown",
   "metadata": {},
   "source": [
    "But use caution with this: it's not a good idea to store all the results of a very large query (this is what a database if for after all)."
   ]
  },
  {
   "cell_type": "markdown",
   "metadata": {},
   "source": [
    "It is also possible to do projections, to only return the document fields you're interested in:"
   ]
  },
  {
   "cell_type": "code",
   "execution_count": null,
   "metadata": {
    "collapsed": false
   },
   "outputs": [],
   "source": [
    "cursor = c.find({'surname': 'Bragg'},\n",
    "                ['firstname', 'surname', 'prizes.category', 'prizes.year', 'prizes.motivation'])"
   ]
  },
  {
   "cell_type": "markdown",
   "metadata": {},
   "source": [
    "Here, the `find` method has taken two dictionaries as its arguments: the first dictionary is the query, and the second is a list of the fields you want to return. "
   ]
  },
  {
   "cell_type": "code",
   "execution_count": null,
   "metadata": {
    "collapsed": false
   },
   "outputs": [],
   "source": [
    "# doc is a dict\n",
    "# we can just print the information we're interested in\n",
    "for doc in cursor:\n",
    "    print(\"{} {} ({}, {}): {}\\n\".format(doc['firstname'],\n",
    "                                    doc['surname'],\n",
    "                                    doc['prizes'][0]['category'],\n",
    "                                    doc['prizes'][0]['year'],\n",
    "                                    # prize 'motivation' is not always defined, as we use\n",
    "                                    # .get() to return a default value of an empty string \"\"\n",
    "                                    # if 'motivation' is not defined\n",
    "                                    doc['prizes'][0].get('motivation', \"\")))"
   ]
  },
  {
   "cell_type": "markdown",
   "metadata": {},
   "source": [
    "Since our projection is just a `dict`, if we use it a lot, we can store it like so:"
   ]
  },
  {
   "cell_type": "code",
   "execution_count": null,
   "metadata": {
    "collapsed": false
   },
   "outputs": [],
   "source": [
    "my_projection = ['firstname', 'surname', 'prizes.category', 'prizes.year', 'prizes.motivation']\n",
    "cursor = c.find({'surname': 'Bragg'}, my_projection)"
   ]
  },
  {
   "cell_type": "markdown",
   "metadata": {},
   "source": [
    "This is equivalent to the previous example."
   ]
  },
  {
   "cell_type": "markdown",
   "metadata": {},
   "source": [
    "## 7.1 More complex queries: element matching"
   ]
  },
  {
   "cell_type": "markdown",
   "metadata": {},
   "source": [
    "Let's try a more complex query. We want to find all laureates who won a Nobel prize in a specified year. If we look at the structure of the documents above, we see that each laureate as a list `prizes`, for each of their Nobel prizes, and each element of that `list` is a `dict` containing information on the prize, such as its `year`.\n",
    "\n",
    "To match all laureates from '1905', we match on every *element* of the `prizes` list with `$elemMatch`."
   ]
  },
  {
   "cell_type": "code",
   "execution_count": null,
   "metadata": {
    "collapsed": false
   },
   "outputs": [],
   "source": [
    "cursor = c.find({'prizes': {'$elemMatch': {'year': '1905'}}},\n",
    "                ['firstname', 'surname', 'prizes.category', 'prizes.year', 'prizes.motivation'])"
   ]
  },
  {
   "cell_type": "code",
   "execution_count": null,
   "metadata": {
    "collapsed": false
   },
   "outputs": [],
   "source": [
    "for doc in cursor:\n",
    "    print(\"{} {} ({}): {}\\n\".format(doc['firstname'],\n",
    "                                    doc['surname'],\n",
    "                                    doc['prizes'][0]['category'],\n",
    "                                    doc['prizes'][0].get('motivation', \"\")))"
   ]
  },
  {
   "cell_type": "markdown",
   "metadata": {},
   "source": [
    "This example highlights one of the problems with a schema-less database like mongoDB. You may have been surprised that the year was entered as a string (`'1905'`) and not an int (`1905`).\n",
    "\n",
    "It would make more sense to store the year as an integer, but the source data had the years as strings, and these were inserted into the database without complaint. Likewise, mongoDB has support for date objects, which would be more appropriate for the `born` and `died` fields.\n",
    "\n",
    "Even though `mongoDB` is schema-less, it's worth thinking about the form you want your date to take, because it can make querying your data easier later.\n",
    "\n",
    "To use a concrete example, some people store a value with its units as a string, like so: `'0.1 eV'`. While storing the units is useful, it is now not possible to use, for example, 'greater than' queries on that field, since it is not a number. A more useful format might be to store the value as a dict, `{'value': 0.1, 'unit': 'eV'}`. Now, the unit is still stored with the value, but the value is stored as a number (`float`)  that is easier to query."
   ]
  },
  {
   "cell_type": "markdown",
   "metadata": {},
   "source": [
    "## 7.2 More complex queries: OR logic"
   ]
  },
  {
   "cell_type": "markdown",
   "metadata": {
    "collapsed": false
   },
   "source": [
    "In a similar way, we can query all of the winners of the Nobel Prize in Chemistry."
   ]
  },
  {
   "cell_type": "code",
   "execution_count": null,
   "metadata": {
    "collapsed": false,
    "deletable": true,
    "editable": true
   },
   "outputs": [],
   "source": [
    "cursor = c.find({'prizes': {'$elemMatch': {'category': 'chemistry'}}},\n",
    "                ['firstname', 'surname', 'prizes.category', 'prizes.year', 'prizes.motivation'])"
   ]
  },
  {
   "cell_type": "code",
   "execution_count": null,
   "metadata": {
    "collapsed": false
   },
   "outputs": [],
   "source": [
    "for doc in cursor:\n",
    "    print(\"{} {} ({}): {}\\n\".format(doc['firstname'],\n",
    "                                    doc['surname'],\n",
    "                                    doc['prizes'][0]['category'],\n",
    "                                    doc['prizes'][0].get('motivation', \"\")))"
   ]
  },
  {
   "cell_type": "markdown",
   "metadata": {},
   "source": [
    "If we wanted to ask for `chemistry` OR `physics`, we would modify the query by replacing `'category': 'chemistry'` with `'category': {'$in': ['chemistry', 'physics']}`, like so:"
   ]
  },
  {
   "cell_type": "code",
   "execution_count": null,
   "metadata": {
    "collapsed": false
   },
   "outputs": [],
   "source": [
    "cursor = c.find({'prizes': {'$elemMatch': {'category': {'$in': ['chemistry', 'physics']}}}},\n",
    "                ['firstname', 'surname', 'prizes.category', 'prizes.year', 'prizes.motivation'])"
   ]
  },
  {
   "cell_type": "code",
   "execution_count": null,
   "metadata": {
    "collapsed": false
   },
   "outputs": [],
   "source": [
    "for doc in cursor:\n",
    "    print(\"{} {} ({}, {}): {}\\n\".format(doc['firstname'],\n",
    "                                        doc['surname'],\n",
    "                                        doc['prizes'][0]['category'],\n",
    "                                        doc['prizes'][0]['year'],\n",
    "                                        doc['prizes'][0].get('motivation', \"\")))"
   ]
  },
  {
   "cell_type": "markdown",
   "metadata": {},
   "source": [
    "# 7.2 More complex queries: counting"
   ]
  },
  {
   "cell_type": "markdown",
   "metadata": {},
   "source": [
    "Let's see which laureates have won two Nobel prizes!"
   ]
  },
  {
   "cell_type": "code",
   "execution_count": null,
   "metadata": {
    "collapsed": false
   },
   "outputs": [],
   "source": [
    "cursor = c.find({'prizes': {'$size': 2}},\n",
    "                ['firstname', 'surname', 'prizes.category', 'prizes.year', 'prizes.motivation'])"
   ]
  },
  {
   "cell_type": "code",
   "execution_count": null,
   "metadata": {
    "collapsed": false
   },
   "outputs": [],
   "source": [
    "for doc in cursor:\n",
    "    pprint(doc)\n",
    "    print(\"\\n\")"
   ]
  },
  {
   "cell_type": "markdown",
   "metadata": {},
   "source": [
    "## 7.2 More complex queries: regular expressions"
   ]
  },
  {
   "cell_type": "markdown",
   "metadata": {
    "collapsed": true,
    "deletable": true,
    "editable": true
   },
   "source": [
    "We can search for strings which contain a given word, for example to find Nobel prizes awarded to a specific institution."
   ]
  },
  {
   "cell_type": "code",
   "execution_count": null,
   "metadata": {
    "collapsed": false
   },
   "outputs": [],
   "source": [
    "MY_CITY = \"Berkeley\""
   ]
  },
  {
   "cell_type": "markdown",
   "metadata": {},
   "source": [
    "This will be a fairly complex query, so let's write it separately to make it easier to read (the query is only a dict after all):"
   ]
  },
  {
   "cell_type": "code",
   "execution_count": null,
   "metadata": {
    "collapsed": false
   },
   "outputs": [],
   "source": [
    "# the format of the document looks like this:\n",
    "# 'prizes': [{'affiliations': [{'city': 'Manchester',\n",
    "#                               'country': 'United Kingdom',\n",
    "#                               'name': 'Victoria University'}],\n",
    "\n",
    "# you can write this all on one line too\n",
    "query = {\n",
    "    'prizes': {\n",
    "        '$elemMatch': {\n",
    "            'affiliations': {\n",
    "                '$elemMatch': {\n",
    "                    'city': {\n",
    "                        '$regex': MY_CITY\n",
    "                    }\n",
    "                }\n",
    "            }\n",
    "        }\n",
    "    }\n",
    "}"
   ]
  },
  {
   "cell_type": "markdown",
   "metadata": {},
   "source": [
    "For this query, we use the `$elemMatch` we introduced earlier.\n",
    "\n",
    "We also use `$regex`, this takes a 'regular expression'. In its simplest form, it will match any string that contains its argument, for example `{'$regex': 'California'}` would return results with `University of California`. There are far more complicated regular expressions possible to match more complicated queries: Google is your friend!"
   ]
  },
  {
   "cell_type": "code",
   "execution_count": null,
   "metadata": {
    "collapsed": false,
    "deletable": true,
    "editable": true
   },
   "outputs": [],
   "source": [
    "cursor = c.find(query,\n",
    "               ['firstname', 'surname', 'prizes.category', 'prizes.year', 'prizes.motivation'])"
   ]
  },
  {
   "cell_type": "code",
   "execution_count": null,
   "metadata": {
    "collapsed": false
   },
   "outputs": [],
   "source": [
    "for doc in cursor:\n",
    "    print(\"{} {} ({}, {}): {}\\n\".format(doc['firstname'],\n",
    "                                        doc['surname'],\n",
    "                                        doc['prizes'][0]['category'],\n",
    "                                        doc['prizes'][0]['year'],\n",
    "                                        doc['prizes'][0].get('motivation', \"\")))"
   ]
  },
  {
   "cell_type": "markdown",
   "metadata": {},
   "source": [
    "You can replace `city` with `name` in the above query to search for your specific institution! (or `city` with `country` to search for your country)"
   ]
  },
  {
   "cell_type": "markdown",
   "metadata": {},
   "source": [
    "# 8. More advanced topics"
   ]
  },
  {
   "cell_type": "markdown",
   "metadata": {},
   "source": [
    "MongoDB provides very powerful aggregation and document validation features. The MongoDB documentation and StackOverflow are two great resources to learn more. Good luck! :)\n",
    "\n",
    "The only caveat: MongoDB syntax is very similar to pymongo, but slightly different (usually Python requires some extra quotation marks). If you're trying something and it doesn't work, try searching for the pymongo equivalent."
   ]
  },
  {
   "cell_type": "code",
   "execution_count": null,
   "metadata": {
    "collapsed": true
   },
   "outputs": [],
   "source": []
  }
 ],
 "metadata": {
  "kernelspec": {
   "display_name": "Python 3",
   "language": "python",
   "name": "python3"
  },
  "language_info": {
   "codemirror_mode": {
    "name": "ipython",
    "version": 3
   },
   "file_extension": ".py",
   "mimetype": "text/x-python",
   "name": "python",
   "nbconvert_exporter": "python",
   "pygments_lexer": "ipython3",
   "version": "3.5.2"
  }
 },
 "nbformat": 4,
 "nbformat_minor": 1
}
