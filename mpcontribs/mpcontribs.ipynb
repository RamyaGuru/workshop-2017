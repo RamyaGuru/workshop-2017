{
 "cells": [
  {
   "cell_type": "code",
   "execution_count": null,
   "metadata": {
    "collapsed": false
   },
   "outputs": [],
   "source": [
    "# not during workshop\n",
    "!pmg config --add PMG_MAPI_KEY <YOUR_API_KEY>\n",
    "!cd ~/work/MPContribs && git pull && git submodule update webtzite && git submodule update mpcontribs/users"
   ]
  },
  {
   "cell_type": "markdown",
   "metadata": {},
   "source": [
    "- click \"MPContribs\" Button in upper right corner; log in to test site; generate api-key\n",
    "- source: https://refractiveindex.info/\n",
    "- google sheet: https://docs.google.com/spreadsheets/d/1mjsUpxyG4oXoyRll3iTR_dUw4sCS0bY-mweK8kP_Hog  \n",
    "  will first demo ingestion; later practice by adding mp-ids from source\n",
    "\n",
    "### Ingest Data into Container DB\n",
    "\n",
    "- click `MPContribs > Ingester`\n",
    "- select `mp_workshop_2017` for pre-submission processing\n",
    "- click Pen Button in navigation bar to load `mp_workshop_2017` code\n",
    "- copy mp-id from google sheet and add `mpids=['<ctrl+v>']` to `run` arguments;  \n",
    "  click save code to persist changes\n",
    "- click `Run` to execute embedded Jupyter Cell and load data from google sheet\n",
    "- click Graph Button in navbar to build and preview contribution\n",
    "- jump to contributions; toggle Input, hData, Tables, Graphs to see components at a glance\n",
    "- cycle to review contribution ('get in shape') or to add more mp-ids\n",
    "- click Database Button; select `Local Test Site`\n",
    "- click `View` to view specific contribution details page - loaded from container DB\n",
    "\n",
    "break here to allow attendees to attempt their own contributions to their containers  \n",
    "segway to ...\n",
    "\n",
    "### Contribution Details & Custom Landing Pages\n",
    "\n",
    "- click `MPContribs > JupyterHub` [local test site]\n",
    "- Generic MPContribs Explorer: select mp-id(s)  \n",
    "  -> obtain direct URL(s) to Contribution Details Page (dto for cids and projects)\n",
    "- click `mp workshop 2017` to view dedicated landing page with contributions from google sheet\n",
    "  - provenance: source, doi, authors, references, title, description, key-value data ...\n",
    "  - automatically generated data table resembling google sheet:\n",
    "    - links to material and contribution details page\n",
    "    - also embeds URL to CIF download if structure embedded in contribution\n",
    "    - first 7 columns shown; option to show/hide columns (see Tam's Perovskites)\n",
    "  - grid of auto-generated interactive graphs based on contributed tables\n",
    "\n",
    "\n",
    "### Interact with Data through Rester"
   ]
  },
  {
   "cell_type": "code",
   "execution_count": null,
   "metadata": {
    "collapsed": false
   },
   "outputs": [],
   "source": [
    "from mpcontribs.users.mp_workshop_2017.rest.rester import MpWorkshop2017Rester"
   ]
  },
  {
   "cell_type": "code",
   "execution_count": null,
   "metadata": {
    "collapsed": false
   },
   "outputs": [],
   "source": [
    "mpr = MpWorkshop2017Rester(test_site=True)"
   ]
  },
  {
   "cell_type": "code",
   "execution_count": null,
   "metadata": {
    "collapsed": false
   },
   "outputs": [],
   "source": [
    "mpr.preamble"
   ]
  },
  {
   "cell_type": "code",
   "execution_count": null,
   "metadata": {
    "collapsed": false
   },
   "outputs": [],
   "source": [
    "[doc['_id'] for doc in mpr.query_contributions()]"
   ]
  },
  {
   "cell_type": "code",
   "execution_count": null,
   "metadata": {
    "collapsed": false
   },
   "outputs": [],
   "source": [
    "mpfile = mpr.find_contribution('598a3342a25ec601ef334003')\n",
    "mpid = mpfile.ids[0]\n",
    "mpid"
   ]
  },
  {
   "cell_type": "code",
   "execution_count": null,
   "metadata": {
    "collapsed": false
   },
   "outputs": [],
   "source": [
    "mpfile.hdata[mpid]['data'] # dictionary"
   ]
  },
  {
   "cell_type": "code",
   "execution_count": null,
   "metadata": {
    "collapsed": false
   },
   "outputs": [],
   "source": [
    "mpfile.gdata[mpid]"
   ]
  },
  {
   "cell_type": "code",
   "execution_count": null,
   "metadata": {
    "collapsed": false
   },
   "outputs": [],
   "source": [
    "mpr.get_contributions() # DataFrame\n",
    "# also mpr.get_graphs() to get all graphs for workshop"
   ]
  },
  {
   "cell_type": "markdown",
   "metadata": {},
   "source": [
    "### Materials Project & Embedding in Materials Details Page\n",
    "\n",
    "- Use Cases / List of Contributed Dataset Explorers -> Showcase a few? Show MPContribsUsers on GitHub?\n",
    "- select a few attendees to add as trusted contributors to materialsproject.org [or do myself as representative]\n",
    "- run through MPContribs Ingester and select `Materials Project` as Database\n",
    "- go to https://materialsproject.org/mpcontribs and see contributions show up in Explorer / Landing Page\n",
    "- click mp-id on landing page and see contribution preview on Material Details Page"
   ]
  }
 ],
 "metadata": {
  "kernelspec": {
   "display_name": "Python 2",
   "language": "python",
   "name": "python2"
  },
  "language_info": {
   "codemirror_mode": {
    "name": "ipython",
    "version": 2
   },
   "file_extension": ".py",
   "mimetype": "text/x-python",
   "name": "python",
   "nbconvert_exporter": "python",
   "pygments_lexer": "ipython2",
   "version": "2.7.12"
  }
 },
 "nbformat": 4,
 "nbformat_minor": 1
}
